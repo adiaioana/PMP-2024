{
 "cells": [
  {
   "metadata": {},
   "cell_type": "markdown",
   "source": [
    "#  Laboratorul 2\n",
    "\n",
    "Considerăm o urnă în care avem 3 bile roşii, 4 albastre şi 2 negre. Aruncăm un zar; dacă obținem un număr prim,\n",
    "adăugăm o bilă neagră în urnă, dacă obținem 6, adăugăm o bilă roşie, iar în celelalte cazuri adăugăm o bilǎ albastră.\n",
    "Apoi extragem o bilă din urnă.\n",
    "a) Simulaţi în Python experimentul de mai sus.\n",
    "b) Folosind modelarea făcută, estimaţi probabilitatea de a obţine o bilă roşie.\n",
    "Bonus. Calculaţi probabilitatea teoretică a evenimentului de mai sus şi comparați-o cu cea obținută."
   ],
   "id": "8a77807f92f26ee"
  },
  {
   "metadata": {
    "ExecuteTime": {
     "end_time": "2024-10-08T10:40:29.902907Z",
     "start_time": "2024-10-08T10:40:23.730866Z"
    }
   },
   "cell_type": "code",
   "source": [
    "import numpy as np\n",
    "#import matplotlib.pyplot as plt\n",
    "\n",
    "def simulare_experiment(nocases):\n",
    "    urna = ['r','r','r','a','a','a','a','n','n']\n",
    "    \n",
    "    tot = 0\n",
    "    for _ in range(1,nocases):\n",
    "        zar = np.random.uniform(1,7,1)\n",
    "        bila = 'n' if zar in [2,3,5] else 'r' if zar == 6 else 'a' \n",
    "        urna.append(bila)\n",
    "        extragere = np.random.choice(urna)\n",
    "        urna.pop(urna.index(extragere)) # se scoate bila\n",
    "        tot = tot +1 if extragere == 'r' else tot\n",
    "    return tot / nocases\n",
    "no_cases = 100000\n",
    "print (f'Probabilitatea dupa {no_cases} este {'{0:.15f}'.format(simulare_experiment(no_cases))}')\n",
    "\n",
    "'''\n",
    "date, no_iter = [], []\n",
    "for no_it in range(100, 1000, 100):\n",
    "    no_iter.append(no_it)\n",
    "    date.append(simulare_experiment(no_it))\n",
    "plt.plot(date, no_iter, color='blue')\n",
    "plt.title('Probabilitatea in comparatie cu numarul de simulari pentru experimente random')\n",
    "plt.show()\n",
    "'''"
   ],
   "id": "fbc121e30a2defb3",
   "outputs": [
    {
     "name": "stdout",
     "output_type": "stream",
     "text": [
      "Probabilitatea dupa 100000 este 0.000030000000000\n"
     ]
    },
    {
     "data": {
      "text/plain": [
       "\"\\ndate, no_iter = [], []\\nfor no_it in range(100, 1000, 100):\\n    no_iter.append(no_it)\\n    date.append(simulare_experiment(no_it))\\nplt.plot(date, no_iter, color='blue')\\nplt.title('Probabilitatea in comparatie cu numarul de simulari pentru experimente random')\\nplt.show()\\n\""
      ]
     },
     "execution_count": 31,
     "metadata": {},
     "output_type": "execute_result"
    }
   ],
   "execution_count": 31
  }
 ],
 "metadata": {
  "kernelspec": {
   "display_name": "Python 3",
   "language": "python",
   "name": "python3"
  },
  "language_info": {
   "codemirror_mode": {
    "name": "ipython",
    "version": 2
   },
   "file_extension": ".py",
   "mimetype": "text/x-python",
   "name": "python",
   "nbconvert_exporter": "python",
   "pygments_lexer": "ipython2",
   "version": "2.7.6"
  }
 },
 "nbformat": 4,
 "nbformat_minor": 5
}
