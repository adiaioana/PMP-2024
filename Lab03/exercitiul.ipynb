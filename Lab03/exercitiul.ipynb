{
 "cells": [
  {
   "metadata": {},
   "cell_type": "markdown",
   "source": [
    "### Cerință laborator 3 - Rețele Bayesiene\n",
    "\n",
    "Un sistem de clasificare a e-mail-urilor folosește o rețea bayesiană pentru a evalua probabilitatea ca un e-mail să fie spam (S) în funcție de anumite caracteristici observate. Rețeaua include următoarele variabile:\n",
    "##### S: E-mail-ul poate fi spam (S= 1) sau non-spam (S = 0).\n",
    "##### O: E-mail-ul poate conține cuvântul \"ofertă\" (0 = 1) sau nu (0 = 0).\n",
    "##### L: E-mail-ul poate conține link-uri (L= 1) sau nu (L= 0).\n",
    "##### M: E-mail-ul poate avea o lungime mare (M = 1) sau nu (M = 0).\n",
    "#### STRUCTURA REȚELEI BAYESIENE\n",
    "Spam (S) influențează probabilitatea ca e-mail-ul să conțină cuvântul \"ofertă\" (O) și să conțină link-uri (L). Lungimea e-mail-ului (M) este influențată atât de faptul că este spam (S) cât și de prezența link-urilor (L).\n",
    "\n",
    "### Probabilități\n",
    "$$\n",
    "\\begin{aligned}\n",
    "P(S = 1) &= 0.4, \\\\\n",
    "P(S = 0) &= 0.6\n",
    "\\end{aligned}\n",
    "$$\n",
    "### Tabele de probabilități condiționate:\n",
    "$$\n",
    "\\begin{aligned}\n",
    "P(O = 1 \\mid S = 0) &= 0.1, \\\\\n",
    "P(O = 1 \\mid S = 1) &= 0.7\n",
    "\\end{aligned}\n",
    "$$\n",
    "$$\n",
    "\\begin{aligned}\n",
    "P(L = 1 \\mid S = 1) &= 0.8, \\\\\n",
    "P(L = 1 \\mid S = 0) &= 0.3\n",
    "\\end{aligned}\n",
    "$$\n",
    "$$\n",
    "\\begin{aligned}\n",
    "P(M = 1 \\mid S = 1, L = 1) &= 0.9, \\\\\n",
    "P(M = 1 \\mid S = 0, L = 1) &= 0.6\n",
    "\\end{aligned}\n",
    "$$\n",
    "$$\n",
    "\\begin{aligned}\n",
    "P(M = 1 \\mid S = 1, L = 0) &= 0.5, \\\\\n",
    "P(M = 1 \\mid S = 0, L = 0) &= 0.2\n",
    "\\end{aligned}\n",
    "$$"
   ],
   "id": "d7e2731113bbd8aa"
  },
  {
   "metadata": {
    "ExecuteTime": {
     "end_time": "2024-10-15T10:51:11.955884Z",
     "start_time": "2024-10-15T10:50:43.145443Z"
    }
   },
   "cell_type": "code",
   "source": [
    "from pgmpy.models import BayesianNetwork\n",
    "from pgmpy.independencies import Independencies\n",
    "from pgmpy.factors.discrete import TabularCPD\n",
    "from pgmpy.inference import VariableElimination\n",
    "\n",
    "model = BayesianNetwork([('S', 'O'), ('S', 'L'), ('S', 'M'), ('L', 'M')])\n",
    "cpd_S = TabularCPD(variable='S', variable_card=2, values=[[0.6], [0.4]])\n",
    "cpd_O = TabularCPD(variable='O', variable_card=2, \n",
    "                   values=[[0.9, 0.3],  # P(O=0|S=0), P(O=0|S=1)\n",
    "                           [0.1, 0.7]], # P(O=1|S=0), P(O=1|S=1)\n",
    "                   evidence=['S'], evidence_card=[2])\n",
    "\n",
    "cpd_L = TabularCPD(variable='L', variable_card=2, \n",
    "                   values=[[0.7, 0.2],  # P(L=0|S=0), P(L=0|S=1)\n",
    "                           [0.3, 0.8]], # P(L=1|S=0), P(L=1|S=1)\n",
    "                   evidence=['S'], evidence_card=[2])\n",
    "\n",
    "cpd_M = TabularCPD(variable='M', variable_card=2,\n",
    "                   values=[[0.8, 0.5, 0.4, 0.1],  # P(M=0|S,L)\n",
    "                           [0.2, 0.5, 0.6, 0.9]], # P(M=1|S,L)\n",
    "                   evidence=['S', 'L'], evidence_card=[2, 2])\n",
    "\n",
    "model.add_cpds(cpd_S, cpd_O, cpd_L, cpd_M)\n",
    "\n",
    "#assert model.check_model()\n",
    "independencies = model.get_independencies()\n",
    "\n",
    "print(\"Independențele din rețea:\")\n",
    "print(independencies)\n"
   ],
   "id": "9ab1ac48c5e9d163",
   "outputs": [
    {
     "name": "stderr",
     "output_type": "stream",
     "text": [
      "D:\\FII\\PMP\\Lab03\\.venv\\Lib\\site-packages\\tqdm\\auto.py:21: TqdmWarning: IProgress not found. Please update jupyter and ipywidgets. See https://ipywidgets.readthedocs.io/en/stable/user_install.html\n",
      "  from .autonotebook import tqdm as notebook_tqdm\n"
     ]
    },
    {
     "name": "stdout",
     "output_type": "stream",
     "text": [
      "Independențele din rețea:\n",
      "(O ⟂ L, M | S)\n",
      "(O ⟂ M | L, S)\n",
      "(O ⟂ L | S, M)\n",
      "(L ⟂ O | S)\n",
      "(L ⟂ O | S, M)\n",
      "(M ⟂ O | S)\n",
      "(M ⟂ O | L, S)\n"
     ]
    }
   ],
   "execution_count": 1
  },
  {
   "metadata": {},
   "cell_type": "markdown",
   "source": "Determinați cum clasifică rețeaua bayesiană e-mail-urile în funcție de atributele O, L și M. ",
   "id": "c149495013b6623"
  },
  {
   "metadata": {
    "ExecuteTime": {
     "end_time": "2024-10-15T10:52:02.556876Z",
     "start_time": "2024-10-15T10:52:02.542683Z"
    }
   },
   "cell_type": "code",
   "source": [
    "\n",
    "P_S = {1: 0.4, 0: 0.6}  # P(S=1) = 0.4, P(S=0) = 0.6\n",
    "P_O_cond_S = {1: 0.7, 0: 0.1}  # P(O=1 | S=1) = 0.7, P(O=1 | S=0) = 0.1\n",
    "P_L_cond_S = {1: 0.8, 0: 0.3}  # P(L=1 | S=1) = 0.8, P(L=1 | S=0) = 0.3\n",
    "P_M_cond_SL = {(1, 1): 0.9, (0, 1): 0.6, (1, 0): 0.5, (0, 0): 0.2}  # P(M=1 | S, L)\n",
    "\n",
    "def P_O_L_M_cond_S(S, O, L, M):\n",
    "    # P(O, L, M | S)\n",
    "    P_O = P_O_cond_S[S] if O == 1 else 1 - P_O_cond_S[S]\n",
    "    P_L = P_L_cond_S[S] if L == 1 else 1 - P_L_cond_S[S]\n",
    "    P_M = P_M_cond_SL[(S, L)] if M == 1 else 1 - P_M_cond_SL[(S, L)]\n",
    "    \n",
    "    return P_O * P_L * P_M\n",
    "\n",
    "def P_O_L_M(O, L, M):\n",
    "    P_O_L_M_S1 = P_O_L_M_cond_S(1, O, L, M) * P_S[1]\n",
    "    P_O_L_M_S0 = P_O_L_M_cond_S(0, O, L, M) * P_S[0]\n",
    "    return P_O_L_M_S1 + P_O_L_M_S0\n",
    "\n",
    "def P_S_cond_O_L_M(S, O, L, M):\n",
    "    P_O_L_M_S = P_O_L_M_cond_S(S, O, L, M) * P_S[S]\n",
    "    P_O_L_M_total = P_O_L_M(O, L, M)\n",
    "    return P_O_L_M_S / P_O_L_M_total\n",
    "\n",
    "\n",
    "def classify_email(O, L, M):\n",
    "    P_S1_cond_O_L_M = P_S_cond_O_L_M(1, O, L, M)\n",
    "    P_S0_cond_O_L_M = P_S_cond_O_L_M(0, O, L, M)\n",
    "    \n",
    "    if P_S1_cond_O_L_M > P_S0_cond_O_L_M:\n",
    "        return \"Spam\", P_S1_cond_O_L_M\n",
    "    else:\n",
    "        return \"Non-Spam\", P_S0_cond_O_L_M\n",
    "\n",
    "for O in range(0,2):\n",
    "    for L in range(0,2):\n",
    "        for M in range(0,2):\n",
    "            classification, probability = classify_email(O, L, M)\n",
    "            print(f'[Pentru O={O},L={L} si M={M}] '\n",
    "                  f'E-mail-ul este <{classification}> cu probabilitatea {probability:.4f}')\n"
   ],
   "id": "d2970738c5137d26",
   "outputs": [
    {
     "name": "stdout",
     "output_type": "stream",
     "text": [
      "[Pentru O=0,L=0 si M=0] E-mail-ul este <Non-Spam> cu probabilitatea 0.9618\n",
      "[Pentru O=0,L=0 si M=1] E-mail-ul este <Non-Spam> cu probabilitatea 0.8630\n",
      "[Pentru O=0,L=1 si M=0] E-mail-ul este <Non-Spam> cu probabilitatea 0.8710\n",
      "[Pentru O=0,L=1 si M=1] E-mail-ul este <Non-Spam> cu probabilitatea 0.5294\n",
      "[Pentru O=1,L=0 si M=0] E-mail-ul este <Non-Spam> cu probabilitatea 0.5455\n",
      "[Pentru O=1,L=0 si M=1] E-mail-ul este <Spam> cu probabilitatea 0.7692\n",
      "[Pentru O=1,L=1 si M=0] E-mail-ul este <Spam> cu probabilitatea 0.7568\n",
      "[Pentru O=1,L=1 si M=1] E-mail-ul este <Spam> cu probabilitatea 0.9492\n"
     ]
    }
   ],
   "execution_count": 3
  },
  {
   "metadata": {},
   "cell_type": "code",
   "outputs": [],
   "execution_count": null,
   "source": "",
   "id": "189b1f1c77dda5bc"
  }
 ],
 "metadata": {
  "kernelspec": {
   "display_name": "Python 3",
   "language": "python",
   "name": "python3"
  },
  "language_info": {
   "codemirror_mode": {
    "name": "ipython",
    "version": 2
   },
   "file_extension": ".py",
   "mimetype": "text/x-python",
   "name": "python",
   "nbconvert_exporter": "python",
   "pygments_lexer": "ipython2",
   "version": "2.7.6"
  }
 },
 "nbformat": 4,
 "nbformat_minor": 5
}
